{
  "nbformat": 4,
  "nbformat_minor": 0,
  "metadata": {
    "colab": {
      "provenance": [],
      "authorship_tag": "ABX9TyOmVKtVWY6HsLM/9g/D+2vf",
      "include_colab_link": true
    },
    "kernelspec": {
      "name": "python3",
      "display_name": "Python 3"
    },
    "language_info": {
      "name": "python"
    }
  },
  "cells": [
    {
      "cell_type": "markdown",
      "metadata": {
        "id": "view-in-github",
        "colab_type": "text"
      },
      "source": [
        "<a href=\"https://colab.research.google.com/github/UIT-21520916/CKKS_OpenFHE_RandomForestModel/blob/main/Untitled8.ipynb\" target=\"_parent\"><img src=\"https://colab.research.google.com/assets/colab-badge.svg\" alt=\"Open In Colab\"/></a>"
      ]
    },
    {
      "cell_type": "code",
      "execution_count": 17,
      "metadata": {
        "colab": {
          "base_uri": "https://localhost:8080/"
        },
        "id": "UpZcXzR9WH8B",
        "outputId": "0ed9a8ff-98fb-4eb7-8ea2-716b8141bf4f"
      },
      "outputs": [
        {
          "output_type": "stream",
          "name": "stdout",
          "text": [
            "Chuyển đổi hoàn tất!\n",
            "Số lượng cột:  98333\n"
          ]
        }
      ],
      "source": [
        "import csv\n",
        "\n",
        "def txt_to_csv(txt_file, csv_file):\n",
        "    with open(txt_file, 'r') as file:\n",
        "        lines = file.readlines()\n",
        "\n",
        "    rows = []\n",
        "    current_row = []\n",
        "    column_names = []\n",
        "\n",
        "    for line in lines:\n",
        "        if 'enc=CKKS_PACKED_ENCODING noiseScaleDeg=2' in line:\n",
        "            if current_row:\n",
        "                rows.append(current_row)\n",
        "                current_row = []\n",
        "        else:\n",
        "            current_row.extend(line.split())\n",
        "\n",
        "    rows.append(current_row)\n",
        "\n",
        "    with open(csv_file, 'w', newline='') as file:\n",
        "        writer = csv.writer(file)\n",
        "\n",
        "        # Đặt tên cột từ 1 trở đi\n",
        "        column_names = [str(i) for i in range(1, len(rows[0]) + 1)]\n",
        "        writer.writerow(column_names)\n",
        "\n",
        "        writer.writerows(rows)\n",
        "\n",
        "    print(\"Chuyển đổi hoàn tất!\")\n",
        "    print(\"Số lượng cột: \", len(column_names))\n",
        "\n",
        "# Sử dụng hàm txt_to_csv để chuyển đổi file\n",
        "txt_file = '/home/ciphertext.txt'  # Thay đổi đường dẫn tới file txt của bạn\n",
        "csv_file = '/home/ciphertext.csv'  # Thay đổi đường dẫn tới file csv bạn muốn lưu kết quả\n",
        "\n",
        "txt_to_csv(txt_file, csv_file)\n"
      ]
    },
    {
      "cell_type": "code",
      "source": [
        "import csv\n",
        "\n",
        "def load_csv(file_path):\n",
        "    with open(file_path, 'r') as file:\n",
        "        reader = csv.reader(file)\n",
        "        data = list(reader)\n",
        "    return data\n",
        "\n",
        "def print_last_two_columns(data):\n",
        "    for row in data:\n",
        "        last_two_columns = row[-2:]\n",
        "        print(last_two_columns)\n",
        "\n",
        "file_path = '/home/ciphertext.csv'\n",
        "\n",
        "data = load_csv(file_path)\n",
        "print_last_two_columns(data)\n"
      ],
      "metadata": {
        "colab": {
          "base_uri": "https://localhost:8080/"
        },
        "id": "NRtTfUy-fVjN",
        "outputId": "c6b56978-8ee7-45ea-a69e-7788c2d07e1c"
      },
      "execution_count": 18,
      "outputs": [
        {
          "output_type": "stream",
          "name": "stdout",
          "text": [
            "['98332', '98333']\n",
            "['modulus:', '786433']\n",
            "['modulus:', '786433']\n"
          ]
        }
      ]
    }
  ]
}