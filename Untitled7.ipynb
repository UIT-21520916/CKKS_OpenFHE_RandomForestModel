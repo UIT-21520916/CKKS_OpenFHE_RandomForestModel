{
  "nbformat": 4,
  "nbformat_minor": 0,
  "metadata": {
    "colab": {
      "provenance": [],
      "authorship_tag": "ABX9TyOoN+P4TIBf++/TGhrMa9Qh",
      "include_colab_link": true
    },
    "kernelspec": {
      "name": "python3",
      "display_name": "Python 3"
    },
    "language_info": {
      "name": "python"
    }
  },
  "cells": [
    {
      "cell_type": "markdown",
      "metadata": {
        "id": "view-in-github",
        "colab_type": "text"
      },
      "source": [
        "<a href=\"https://colab.research.google.com/github/UIT-21520916/CKKS_OpenFHE_RandomForestModel/blob/main/Untitled7.ipynb\" target=\"_parent\"><img src=\"https://colab.research.google.com/assets/colab-badge.svg\" alt=\"Open In Colab\"/></a>"
      ]
    },
    {
      "cell_type": "code",
      "execution_count": 1,
      "metadata": {
        "id": "p7i2g2nOmwu8",
        "colab": {
          "base_uri": "https://localhost:8080/"
        },
        "outputId": "e40af76b-b5a0-4811-b3da-84514595c3b2"
      },
      "outputs": [
        {
          "output_type": "stream",
          "name": "stdout",
          "text": [
            "Đường dẫn tệp tin /home/heart_disease.txt: /home/heart_disease.txt\n"
          ]
        }
      ],
      "source": [
        "import os\n",
        "import pandas as pd\n",
        "\n",
        "csv_file = '/home/heart_disease.csv'\n",
        "xl = pd.read_csv(csv_file)  # Đọc file CSV\n",
        "\n",
        "# Lưu dữ liệu vào file văn bản\n",
        "txt_file = os.path.splitext(csv_file)[0] + '.txt'\n",
        "xl.to_csv(txt_file, index=False)\n",
        "\n",
        "print(\"Đường dẫn tệp tin {}: {}\".format(txt_file, os.path.abspath(txt_file)))"
      ]
    },
    {
      "cell_type": "code",
      "source": [
        "import csv\n",
        "import os\n",
        "from google.colab import files\n",
        "\n",
        "input_file = '/home/ciphertext.txt'\n",
        "output_file = 'output.csv'\n",
        "\n",
        "# Upload the input file to Colab\n",
        "uploaded = files.upload()\n",
        "\n",
        "# Get the absolute path of the uploaded input file\n",
        "input_path = list(uploaded.keys())[0]\n",
        "\n",
        "# Get the absolute path of the output file\n",
        "output_path = os.path.join(os.getcwd(), output_file)\n",
        "\n",
        "# Open the input file for reading\n",
        "with open(input_path, 'r') as file:\n",
        "    lines = file.readlines()\n",
        "\n",
        "# Initialize the CSV data\n",
        "csv_data = []\n",
        "row = []\n",
        "\n",
        "# Process each line in the input file\n",
        "for line in lines:\n",
        "    line = line.strip()  # Remove leading/trailing whitespaces\n",
        "\n",
        "    # Check if the line indicates the end of a vector\n",
        "    if line == '.':\n",
        "        csv_data.append(row)\n",
        "        row = []\n",
        "    else:\n",
        "        # Split the line by spaces and append elements to the row\n",
        "        elements = line.split(' ')\n",
        "        row.extend(elements)\n",
        "\n",
        "# Write the CSV data to the output file\n",
        "with open(output_path, 'w', newline='') as file:\n",
        "    writer = csv.writer(file)\n",
        "    writer.writerows(csv_data)\n",
        "\n",
        "print('Conversion completed.')\n",
        "print('Input file path:', input_path)\n",
        "print('Output file path:', output_path)\n"
      ],
      "metadata": {
        "colab": {
          "base_uri": "https://localhost:8080/",
          "height": 125
        },
        "id": "k7t7bsX8rBLR",
        "outputId": "25866d3a-1b38-4cc5-c39a-43ec5e2912cc"
      },
      "execution_count": 5,
      "outputs": [
        {
          "output_type": "display_data",
          "data": {
            "text/plain": [
              "<IPython.core.display.HTML object>"
            ],
            "text/html": [
              "\n",
              "     <input type=\"file\" id=\"files-cdd299a4-6385-4b40-98c7-e428b4173e93\" name=\"files[]\" multiple disabled\n",
              "        style=\"border:none\" />\n",
              "     <output id=\"result-cdd299a4-6385-4b40-98c7-e428b4173e93\">\n",
              "      Upload widget is only available when the cell has been executed in the\n",
              "      current browser session. Please rerun this cell to enable.\n",
              "      </output>\n",
              "      <script>// Copyright 2017 Google LLC\n",
              "//\n",
              "// Licensed under the Apache License, Version 2.0 (the \"License\");\n",
              "// you may not use this file except in compliance with the License.\n",
              "// You may obtain a copy of the License at\n",
              "//\n",
              "//      http://www.apache.org/licenses/LICENSE-2.0\n",
              "//\n",
              "// Unless required by applicable law or agreed to in writing, software\n",
              "// distributed under the License is distributed on an \"AS IS\" BASIS,\n",
              "// WITHOUT WARRANTIES OR CONDITIONS OF ANY KIND, either express or implied.\n",
              "// See the License for the specific language governing permissions and\n",
              "// limitations under the License.\n",
              "\n",
              "/**\n",
              " * @fileoverview Helpers for google.colab Python module.\n",
              " */\n",
              "(function(scope) {\n",
              "function span(text, styleAttributes = {}) {\n",
              "  const element = document.createElement('span');\n",
              "  element.textContent = text;\n",
              "  for (const key of Object.keys(styleAttributes)) {\n",
              "    element.style[key] = styleAttributes[key];\n",
              "  }\n",
              "  return element;\n",
              "}\n",
              "\n",
              "// Max number of bytes which will be uploaded at a time.\n",
              "const MAX_PAYLOAD_SIZE = 100 * 1024;\n",
              "\n",
              "function _uploadFiles(inputId, outputId) {\n",
              "  const steps = uploadFilesStep(inputId, outputId);\n",
              "  const outputElement = document.getElementById(outputId);\n",
              "  // Cache steps on the outputElement to make it available for the next call\n",
              "  // to uploadFilesContinue from Python.\n",
              "  outputElement.steps = steps;\n",
              "\n",
              "  return _uploadFilesContinue(outputId);\n",
              "}\n",
              "\n",
              "// This is roughly an async generator (not supported in the browser yet),\n",
              "// where there are multiple asynchronous steps and the Python side is going\n",
              "// to poll for completion of each step.\n",
              "// This uses a Promise to block the python side on completion of each step,\n",
              "// then passes the result of the previous step as the input to the next step.\n",
              "function _uploadFilesContinue(outputId) {\n",
              "  const outputElement = document.getElementById(outputId);\n",
              "  const steps = outputElement.steps;\n",
              "\n",
              "  const next = steps.next(outputElement.lastPromiseValue);\n",
              "  return Promise.resolve(next.value.promise).then((value) => {\n",
              "    // Cache the last promise value to make it available to the next\n",
              "    // step of the generator.\n",
              "    outputElement.lastPromiseValue = value;\n",
              "    return next.value.response;\n",
              "  });\n",
              "}\n",
              "\n",
              "/**\n",
              " * Generator function which is called between each async step of the upload\n",
              " * process.\n",
              " * @param {string} inputId Element ID of the input file picker element.\n",
              " * @param {string} outputId Element ID of the output display.\n",
              " * @return {!Iterable<!Object>} Iterable of next steps.\n",
              " */\n",
              "function* uploadFilesStep(inputId, outputId) {\n",
              "  const inputElement = document.getElementById(inputId);\n",
              "  inputElement.disabled = false;\n",
              "\n",
              "  const outputElement = document.getElementById(outputId);\n",
              "  outputElement.innerHTML = '';\n",
              "\n",
              "  const pickedPromise = new Promise((resolve) => {\n",
              "    inputElement.addEventListener('change', (e) => {\n",
              "      resolve(e.target.files);\n",
              "    });\n",
              "  });\n",
              "\n",
              "  const cancel = document.createElement('button');\n",
              "  inputElement.parentElement.appendChild(cancel);\n",
              "  cancel.textContent = 'Cancel upload';\n",
              "  const cancelPromise = new Promise((resolve) => {\n",
              "    cancel.onclick = () => {\n",
              "      resolve(null);\n",
              "    };\n",
              "  });\n",
              "\n",
              "  // Wait for the user to pick the files.\n",
              "  const files = yield {\n",
              "    promise: Promise.race([pickedPromise, cancelPromise]),\n",
              "    response: {\n",
              "      action: 'starting',\n",
              "    }\n",
              "  };\n",
              "\n",
              "  cancel.remove();\n",
              "\n",
              "  // Disable the input element since further picks are not allowed.\n",
              "  inputElement.disabled = true;\n",
              "\n",
              "  if (!files) {\n",
              "    return {\n",
              "      response: {\n",
              "        action: 'complete',\n",
              "      }\n",
              "    };\n",
              "  }\n",
              "\n",
              "  for (const file of files) {\n",
              "    const li = document.createElement('li');\n",
              "    li.append(span(file.name, {fontWeight: 'bold'}));\n",
              "    li.append(span(\n",
              "        `(${file.type || 'n/a'}) - ${file.size} bytes, ` +\n",
              "        `last modified: ${\n",
              "            file.lastModifiedDate ? file.lastModifiedDate.toLocaleDateString() :\n",
              "                                    'n/a'} - `));\n",
              "    const percent = span('0% done');\n",
              "    li.appendChild(percent);\n",
              "\n",
              "    outputElement.appendChild(li);\n",
              "\n",
              "    const fileDataPromise = new Promise((resolve) => {\n",
              "      const reader = new FileReader();\n",
              "      reader.onload = (e) => {\n",
              "        resolve(e.target.result);\n",
              "      };\n",
              "      reader.readAsArrayBuffer(file);\n",
              "    });\n",
              "    // Wait for the data to be ready.\n",
              "    let fileData = yield {\n",
              "      promise: fileDataPromise,\n",
              "      response: {\n",
              "        action: 'continue',\n",
              "      }\n",
              "    };\n",
              "\n",
              "    // Use a chunked sending to avoid message size limits. See b/62115660.\n",
              "    let position = 0;\n",
              "    do {\n",
              "      const length = Math.min(fileData.byteLength - position, MAX_PAYLOAD_SIZE);\n",
              "      const chunk = new Uint8Array(fileData, position, length);\n",
              "      position += length;\n",
              "\n",
              "      const base64 = btoa(String.fromCharCode.apply(null, chunk));\n",
              "      yield {\n",
              "        response: {\n",
              "          action: 'append',\n",
              "          file: file.name,\n",
              "          data: base64,\n",
              "        },\n",
              "      };\n",
              "\n",
              "      let percentDone = fileData.byteLength === 0 ?\n",
              "          100 :\n",
              "          Math.round((position / fileData.byteLength) * 100);\n",
              "      percent.textContent = `${percentDone}% done`;\n",
              "\n",
              "    } while (position < fileData.byteLength);\n",
              "  }\n",
              "\n",
              "  // All done.\n",
              "  yield {\n",
              "    response: {\n",
              "      action: 'complete',\n",
              "    }\n",
              "  };\n",
              "}\n",
              "\n",
              "scope.google = scope.google || {};\n",
              "scope.google.colab = scope.google.colab || {};\n",
              "scope.google.colab._files = {\n",
              "  _uploadFiles,\n",
              "  _uploadFilesContinue,\n",
              "};\n",
              "})(self);\n",
              "</script> "
            ]
          },
          "metadata": {}
        },
        {
          "output_type": "stream",
          "name": "stdout",
          "text": [
            "Saving ciphertext.txt to ciphertext.txt\n",
            "Conversion completed.\n",
            "Input file path: ciphertext.txt\n",
            "Output file path: /content/output.csv\n"
          ]
        }
      ]
    },
    {
      "cell_type": "code",
      "source": [
        "import pandas as pd\n",
        "csv_file = '/content/output.csv'\n",
        "df = pd.read_csv(csv_file)\n",
        "df_numeric = df.select_dtypes(include='number')\n",
        "df_numeric.to_csv('numeric_data.csv', index=False)"
      ],
      "metadata": {
        "id": "dYppg2Zmuq9L"
      },
      "execution_count": 6,
      "outputs": []
    },
    {
      "cell_type": "code",
      "source": [
        "import pandas as pd\n",
        "from sklearn.preprocessing import StandardScaler\n",
        "\n",
        "csv_file = '/content/output.csv'\n",
        "\n",
        "df = pd.read_csv(csv_file)\n",
        "df_numeric = df.select_dtypes(include='number')\n",
        "\n",
        "scaler = StandardScaler()\n",
        "\n",
        "scaled_data = scaler.fit_transform(df_numeric)\n",
        "df_scaled = pd.DataFrame(scaled_data, columns=df_numeric.columns)\n",
        "output_file = '/content/scaled_data.csv'\n",
        "df_scaled.to_csv(output_file, index=False)\n",
        "\n",
        "print(df_scaled.head())\n"
      ],
      "metadata": {
        "colab": {
          "base_uri": "https://localhost:8080/"
        },
        "id": "LSn-4Cfcxzwz",
        "outputId": "b92f21a5-e3ac-4131-a6d9-2323929a4e45"
      },
      "execution_count": 10,
      "outputs": [
        {
          "output_type": "stream",
          "name": "stdout",
          "text": [
            "   171251074213559180  813746832191140984  1106069435563772321  \\\n",
            "0                 0.0                 0.0                  0.0   \n",
            "\n",
            "   697551230147788464  398051506886045919  198521416463737900  \\\n",
            "0                 0.0                 0.0                 0.0   \n",
            "\n",
            "   396074016005844688  289307921010855281  119935766038498171  \\\n",
            "0                 0.0                 0.0                 0.0   \n",
            "\n",
            "   790074029167841210  ...  599380  307548  475886  587108  62249  2332  \\\n",
            "0                 0.0  ...     0.0     0.0     0.0     0.0    0.0   0.0   \n",
            "\n",
            "   239362  149887  234197  786433.1  \n",
            "0     0.0     0.0     0.0       0.0  \n",
            "\n",
            "[1 rows x 98298 columns]\n"
          ]
        }
      ]
    },
    {
      "cell_type": "code",
      "source": [
        "df_numeric.shape"
      ],
      "metadata": {
        "colab": {
          "base_uri": "https://localhost:8080/"
        },
        "id": "fAu9ZH8PzQf9",
        "outputId": "68c6144b-64ba-4438-ca79-f3b753bf5284"
      },
      "execution_count": 11,
      "outputs": [
        {
          "output_type": "execute_result",
          "data": {
            "text/plain": [
              "(1, 98298)"
            ]
          },
          "metadata": {},
          "execution_count": 11
        }
      ]
    }
  ]
}